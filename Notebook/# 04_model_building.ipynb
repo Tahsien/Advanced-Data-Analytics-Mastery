{
 "cells": [
  {
   "cell_type": "code",
   "execution_count": null,
   "id": "3723ef50",
   "metadata": {},
   "outputs": [],
   "source": [
    "# 04_model_building.ipynb\n",
    "\"\"\"\n",
    "This notebook explains supervised and unsupervised learning models.\n",
    "\"\"\"\n",
    "\n",
    "from sklearn.model_selection import train_test_split\n",
    "from sklearn.ensemble import RandomForestClassifier\n",
    "from sklearn.cluster import KMeans\n",
    "\n",
    "# Split data into train and test sets\n",
    "X = df_selected.drop(columns=['target_column'])\n",
    "y = df_selected['target_column']\n",
    "X_train, X_test, y_train, y_test = train_test_split(X, y, test_size=0.2, random_state=42)\n",
    "\n",
    "# Supervised learning: Random Forest\n",
    "model = RandomForestClassifier()\n",
    "model.fit(X_train, y_train)\n",
    "\n",
    "# Model evaluation\n",
    "accuracy = model.score(X_test, y_test)\n",
    "print(f\"Model Accuracy: {accuracy}\")\n",
    "\n",
    "# Unsupervised learning: K-Means\n",
    "kmeans = KMeans(n_clusters=3)\n",
    "kmeans.fit(X)\n",
    "print(f\"Cluster Centers: {kmeans.cluster_centers_}\")"
   ]
  }
 ],
 "metadata": {
  "kernelspec": {
   "display_name": "Python 3 (ipykernel)",
   "language": "python",
   "name": "python3"
  },
  "language_info": {
   "codemirror_mode": {
    "name": "ipython",
    "version": 3
   },
   "file_extension": ".py",
   "mimetype": "text/x-python",
   "name": "python",
   "nbconvert_exporter": "python",
   "pygments_lexer": "ipython3",
   "version": "3.10.10"
  }
 },
 "nbformat": 4,
 "nbformat_minor": 5
}
