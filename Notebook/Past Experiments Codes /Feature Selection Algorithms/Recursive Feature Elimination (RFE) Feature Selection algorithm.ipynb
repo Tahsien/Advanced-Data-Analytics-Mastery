{
 "cells": [
  {
   "cell_type": "markdown",
   "id": "ca41b93c",
   "metadata": {},
   "source": [
    "# Recursive Feature Elimination (RFE) Feature Selection algorithm"
   ]
  },
  {
   "cell_type": "code",
   "execution_count": 3,
   "id": "da6b4c0f",
   "metadata": {},
   "outputs": [
    {
     "name": "stdout",
     "output_type": "stream",
     "text": [
      "Selected features: ['X', 'X.y', 'Texture_DifferenceEntropy_3_0', 'Texture_DifferenceEntropy_3_135', 'Texture_SumAverage_3_45']\n"
     ]
    }
   ],
   "source": [
    "from sklearn.feature_selection import RFE\n",
    "from sklearn.ensemble import RandomForestClassifier\n",
    "import pandas as pd\n",
    "\n",
    "# Load the dataset into a pandas DataFrame\n",
    "dataset_path = r'C:\\Users\\tahsi\\OneDrive\\Desktop\\python_ws\\dataset_NoPCA.csv'\n",
    "df = pd.read_csv(dataset_path)\n",
    "\n",
    "# Separate the features and target variable\n",
    "X = df.drop('classification', axis=1)\n",
    "y = df['classification']\n",
    "\n",
    "# Initialize the classifier for RFE\n",
    "estimator = RandomForestClassifier()\n",
    "\n",
    "# Define the number of features you want to select\n",
    "n_features = 5\n",
    "\n",
    "# Initialize the RFE object\n",
    "rfe = RFE(estimator, n_features_to_select=n_features)\n",
    "\n",
    "# Perform RFE\n",
    "X_new = rfe.fit_transform(X, y)\n",
    "\n",
    "# Get the support mask of selected features\n",
    "feature_mask = rfe.support_\n",
    "\n",
    "# Get the remaining feature names\n",
    "remaining_feature_names = X.columns[feature_mask]\n",
    "\n",
    "# Create a DataFrame with the remaining selected features and target variable\n",
    "selected_data = pd.DataFrame(X_new, columns=remaining_feature_names)\n",
    "selected_data['classification'] = y\n",
    "\n",
    "# Save the selected data as a CSV file\n",
    "selected_dataset_path = r'C:\\Users\\tahsi\\OneDrive\\Desktop\\python_ws\\Feature Selection\\Recursive Feature Elimination(RFE)\\selected_dataset.csv'\n",
    "selected_data.to_csv(selected_dataset_path, index=False)\n",
    "\n",
    "# Print the selected feature names\n",
    "print(\"Selected features:\", remaining_feature_names.tolist())\n"
   ]
  },
  {
   "cell_type": "code",
   "execution_count": null,
   "id": "b8eb6b88",
   "metadata": {},
   "outputs": [],
   "source": []
  },
  {
   "cell_type": "code",
   "execution_count": null,
   "id": "4df38845",
   "metadata": {},
   "outputs": [],
   "source": []
  },
  {
   "cell_type": "code",
   "execution_count": null,
   "id": "343f689f",
   "metadata": {},
   "outputs": [],
   "source": []
  }
 ],
 "metadata": {
  "kernelspec": {
   "display_name": "Python 3 (ipykernel)",
   "language": "python",
   "name": "python3"
  },
  "language_info": {
   "codemirror_mode": {
    "name": "ipython",
    "version": 3
   },
   "file_extension": ".py",
   "mimetype": "text/x-python",
   "name": "python",
   "nbconvert_exporter": "python",
   "pygments_lexer": "ipython3",
   "version": "3.11.3"
  }
 },
 "nbformat": 4,
 "nbformat_minor": 5
}
