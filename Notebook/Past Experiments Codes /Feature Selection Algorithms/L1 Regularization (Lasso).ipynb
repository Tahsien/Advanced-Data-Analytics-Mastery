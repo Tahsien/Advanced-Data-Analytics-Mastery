{
 "cells": [
  {
   "cell_type": "markdown",
   "id": "af8a8751",
   "metadata": {},
   "source": [
    "# L1 Regularization (Lasso) Feature Selection algorithm "
   ]
  },
  {
   "cell_type": "code",
   "execution_count": 11,
   "id": "2a9aceb3",
   "metadata": {},
   "outputs": [
    {
     "name": "stdout",
     "output_type": "stream",
     "text": [
      "Selected features: ['Unnamed: 0', 'Blue.count', 'red.count', 'total.clusters', 'area', 'Count_Nuclei', 'ImageNumber', 'Texture_Contrast_3_135', 'Texture_Entropy_3_135', 'Texture_SumVariance_3_90']\n"
     ]
    }
   ],
   "source": [
    "from sklearn.linear_model import Lasso\n",
    "from sklearn.preprocessing import OneHotEncoder, LabelEncoder\n",
    "import pandas as pd\n",
    "import warnings\n",
    "\n",
    "# Load the dataset into a pandas DataFrame\n",
    "dataset_path = r'C:\\Users\\tahsi\\OneDrive\\Desktop\\python_ws\\dataset_NoPCA.csv'\n",
    "df = pd.read_csv(dataset_path)\n",
    "\n",
    "# Separate the features and target variable\n",
    "X = df.drop('classification', axis=1)\n",
    "y = df['classification']\n",
    "\n",
    "# Encode the target variable into numeric values\n",
    "label_encoder = LabelEncoder()\n",
    "y = label_encoder.fit_transform(y)\n",
    "\n",
    "# Encode categorical columns using one-hot encoding\n",
    "categorical_columns = X.select_dtypes(include='object').columns\n",
    "encoder = OneHotEncoder(sparse=False, handle_unknown='ignore')\n",
    "with warnings.catch_warnings():\n",
    "    warnings.simplefilter(\"ignore\")\n",
    "    X_encoded = pd.DataFrame(encoder.fit_transform(X[categorical_columns]))\n",
    "X_encoded.columns = encoder.get_feature_names_out(categorical_columns)\n",
    "\n",
    "# Combine the encoded categorical columns with the numerical columns\n",
    "X = pd.concat([X.drop(categorical_columns, axis=1), X_encoded], axis=1)\n",
    "\n",
    "# Initialize the Lasso model\n",
    "lasso = Lasso(alpha=0.1)  # Adjust the alpha parameter as needed\n",
    "\n",
    "# Fit the Lasso model\n",
    "lasso.fit(X, y)\n",
    "\n",
    "# Get the coefficients and nonzero feature indices\n",
    "coefficients = lasso.coef_\n",
    "nonzero_feature_indices = lasso.coef_ != 0\n",
    "\n",
    "# Get the names of the selected features\n",
    "selected_feature_names = X.columns[nonzero_feature_indices]\n",
    "\n",
    "# Create a DataFrame with the selected features and target variable\n",
    "selected_data = X[selected_feature_names].copy()\n",
    "selected_data['classification'] = label_encoder.inverse_transform(y)\n",
    "\n",
    "# Save the selected data as a CSV file\n",
    "selected_data.to_csv('selected_dataset.csv', index=False)\n",
    "\n",
    "# Print the selected feature names\n",
    "print(\"Selected features:\", selected_feature_names.tolist())\n",
    "selected_data.to_csv(r'C:\\Users\\tahsi\\OneDrive\\Desktop\\python_ws\\Feature Selection\\L1 Regularization\\selected_dataset.csv', index=False)\n"
   ]
  },
  {
   "cell_type": "code",
   "execution_count": null,
   "id": "cc5652fc",
   "metadata": {},
   "outputs": [],
   "source": []
  },
  {
   "cell_type": "code",
   "execution_count": null,
   "id": "619ab336",
   "metadata": {},
   "outputs": [],
   "source": []
  }
 ],
 "metadata": {
  "kernelspec": {
   "display_name": "Python 3 (ipykernel)",
   "language": "python",
   "name": "python3"
  },
  "language_info": {
   "codemirror_mode": {
    "name": "ipython",
    "version": 3
   },
   "file_extension": ".py",
   "mimetype": "text/x-python",
   "name": "python",
   "nbconvert_exporter": "python",
   "pygments_lexer": "ipython3",
   "version": "3.10.10"
  }
 },
 "nbformat": 4,
 "nbformat_minor": 5
}
