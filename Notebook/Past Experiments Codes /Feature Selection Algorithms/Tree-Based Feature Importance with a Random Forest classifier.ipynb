{
 "cells": [
  {
   "cell_type": "markdown",
   "id": "6bc02855",
   "metadata": {},
   "source": [
    "Tree-Based Feature Importance with a Random Forest classifier"
   ]
  },
  {
   "cell_type": "code",
   "execution_count": 5,
   "id": "77650df1",
   "metadata": {},
   "outputs": [
    {
     "name": "stdout",
     "output_type": "stream",
     "text": [
      "Selected Features:\n",
      "Unnamed: 0\n",
      "X.x\n",
      "area\n",
      "X.1\n",
      "X.y\n",
      "Count_Nuclei\n",
      "ImageNumber\n",
      "Texture_Contrast_3_0\n",
      "Texture_DifferenceEntropy_3_0\n",
      "Texture_DifferenceEntropy_3_135\n",
      "Texture_DifferenceEntropy_3_45\n",
      "Texture_DifferenceEntropy_3_90\n",
      "Texture_Entropy_3_0\n",
      "Texture_Entropy_3_135\n",
      "Texture_Entropy_3_45\n",
      "Texture_Entropy_3_90\n",
      "Texture_InverseDifferenceMoment_3_0\n",
      "Texture_InverseDifferenceMoment_3_135\n",
      "Texture_InverseDifferenceMoment_3_45\n",
      "Texture_InverseDifferenceMoment_3_90\n",
      "Texture_SumAverage_3_0\n",
      "Texture_SumAverage_3_135\n",
      "Texture_SumAverage_3_45\n",
      "Texture_SumAverage_3_90\n",
      "Texture_SumEntropy_3_0\n",
      "Texture_SumEntropy_3_135\n",
      "Texture_SumEntropy_3_45\n",
      "Texture_SumEntropy_3_90\n",
      "Texture_SumVariance_3_0\n",
      "Texture_SumVariance_3_135\n",
      "Texture_SumVariance_3_45\n",
      "Texture_SumVariance_3_90\n",
      "Texture_Variance_3_0\n",
      "Texture_Variance_3_45\n",
      "Selected features saved to C:\\Users\\tahsi\\OneDrive\\Desktop\\python_ws\\Feature Selection\\Tree-Based Feature Importance\\selected_dataset.csv\n"
     ]
    }
   ],
   "source": [
    "import pandas as pd\n",
    "from sklearn.ensemble import RandomForestClassifier\n",
    "from sklearn.feature_selection import SelectFromModel\n",
    "\n",
    "# Load the dataset into a pandas DataFrame\n",
    "dataset_path = r'C:\\Users\\tahsi\\OneDrive\\Desktop\\python_ws\\dataset_NoPCA.csv'\n",
    "df = pd.read_csv(dataset_path)\n",
    "\n",
    "# Separate the features and target variable\n",
    "X = df.drop('classification', axis=1)\n",
    "y = df['classification']\n",
    "\n",
    "# Create a base model for feature selection\n",
    "model = RandomForestClassifier()\n",
    "\n",
    "# Perform feature selection based on Tree-Based Feature Importance\n",
    "selector = SelectFromModel(estimator=model, threshold='median')  # Adjust the threshold as desired\n",
    "\n",
    "# Fit the selector on the dataset\n",
    "selector.fit(X, y)\n",
    "\n",
    "# Get the selected feature indices\n",
    "selected_feature_indices = selector.get_support(indices=True)\n",
    "\n",
    "# Get the selected feature names\n",
    "selected_feature_names = X.columns[selected_feature_indices]\n",
    "\n",
    "# Print the selected feature names\n",
    "print(\"Selected Features:\")\n",
    "for feature_name in selected_feature_names:\n",
    "    print(feature_name)\n",
    "\n",
    "# Create a new DataFrame with the selected features\n",
    "X_selected = selector.transform(X)\n",
    "df_selected = pd.DataFrame(X_selected, columns=selected_feature_names)\n",
    "\n",
    "# Save the selected dataset to a CSV file\n",
    "selected_dataset_path = r'C:\\Users\\tahsi\\OneDrive\\Desktop\\python_ws\\Feature Selection\\Tree-Based Feature Importance\\selected_dataset.csv'\n",
    "df_selected.to_csv(selected_dataset_path, index=False)\n",
    "\n",
    "# Print a message indicating where the selected features have been saved\n",
    "print(\"Selected features saved to\", selected_dataset_path)\n",
    "\n"
   ]
  },
  {
   "cell_type": "code",
   "execution_count": null,
   "id": "a7e9b3a9",
   "metadata": {},
   "outputs": [],
   "source": []
  }
 ],
 "metadata": {
  "kernelspec": {
   "display_name": "Python 3 (ipykernel)",
   "language": "python",
   "name": "python3"
  },
  "language_info": {
   "codemirror_mode": {
    "name": "ipython",
    "version": 3
   },
   "file_extension": ".py",
   "mimetype": "text/x-python",
   "name": "python",
   "nbconvert_exporter": "python",
   "pygments_lexer": "ipython3",
   "version": "3.11.3"
  }
 },
 "nbformat": 4,
 "nbformat_minor": 5
}
