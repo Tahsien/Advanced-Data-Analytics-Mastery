{
 "cells": [
  {
   "cell_type": "markdown",
   "id": "db71cf25",
   "metadata": {},
   "source": [
    "SelectKBest feature selection "
   ]
  },
  {
   "cell_type": "code",
   "execution_count": 1,
   "id": "1526d03d",
   "metadata": {},
   "outputs": [
    {
     "name": "stdout",
     "output_type": "stream",
     "text": [
      "Selected Features:\n",
      "Texture_DifferenceEntropy_3_0\n",
      "Texture_DifferenceEntropy_3_135\n",
      "Texture_DifferenceEntropy_3_45\n",
      "Texture_DifferenceEntropy_3_90\n",
      "Texture_InverseDifferenceMoment_3_135\n"
     ]
    }
   ],
   "source": [
    "import numpy as np\n",
    "import pandas as pd\n",
    "from sklearn.feature_selection import SelectKBest\n",
    "from sklearn.preprocessing import LabelEncoder\n",
    "\n",
    "# Read the dataset from a CSV file\n",
    "df = pd.read_csv(r'C:\\Users\\tahsi\\OneDrive\\Desktop\\python_ws\\dataset_NoPCA.csv')\n",
    "\n",
    "# Separate the features (X) and target variable (y)\n",
    "X = df.drop('classification', axis=1)  # Replace 'target_variable' with the actual column name\n",
    "y = df['classification']\n",
    "\n",
    "# Encode the categorical target variable\n",
    "label_encoder = LabelEncoder()\n",
    "y_encoded = label_encoder.fit_transform(y)\n",
    "\n",
    "# Initialize the SelectKBest algorithm\n",
    "kbest = SelectKBest(k=5)\n",
    "\n",
    "# Transform the features using SelectKBest\n",
    "X_kbest = kbest.fit_transform(X, y_encoded)\n",
    "\n",
    "# Get the indices of the selected features\n",
    "selected_indices = kbest.get_support(indices=True)\n",
    "\n",
    "# Get the feature names corresponding to the selected indices\n",
    "selected_features = X.columns[selected_indices]\n",
    "\n",
    "# Create a new DataFrame with the selected features and target variable\n",
    "selected_df = pd.concat([X[selected_features], y], axis=1)\n",
    "\n",
    "# Print the selected features\n",
    "print(\"Selected Features:\")\n",
    "for feature in selected_features:\n",
    "    print(feature)\n",
    "\n",
    "# Save the selected features to a CSV file\n",
    "selected_df.to_csv('selected_featuress.csv', index=False)\n",
    "\n",
    "\n",
    "\n",
    "\n"
   ]
  },
  {
   "cell_type": "code",
   "execution_count": null,
   "id": "25daa742",
   "metadata": {},
   "outputs": [],
   "source": []
  },
  {
   "cell_type": "code",
   "execution_count": null,
   "id": "f922bb33",
   "metadata": {},
   "outputs": [],
   "source": []
  }
 ],
 "metadata": {
  "kernelspec": {
   "display_name": "Python 3 (ipykernel)",
   "language": "python",
   "name": "python3"
  },
  "language_info": {
   "codemirror_mode": {
    "name": "ipython",
    "version": 3
   },
   "file_extension": ".py",
   "mimetype": "text/x-python",
   "name": "python",
   "nbconvert_exporter": "python",
   "pygments_lexer": "ipython3",
   "version": "3.11.3"
  }
 },
 "nbformat": 4,
 "nbformat_minor": 5
}
