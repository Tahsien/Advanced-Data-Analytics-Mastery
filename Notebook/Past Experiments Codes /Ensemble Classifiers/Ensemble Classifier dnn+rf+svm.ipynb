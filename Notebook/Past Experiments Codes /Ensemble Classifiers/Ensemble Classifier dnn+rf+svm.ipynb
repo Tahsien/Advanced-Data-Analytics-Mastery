{
 "cells": [
  {
   "cell_type": "markdown",
   "id": "dc8c2b28",
   "metadata": {},
   "source": [
    "# Ensemble Classifier dnn+rf+svm"
   ]
  },
  {
   "cell_type": "code",
   "execution_count": 1,
   "id": "732ae280",
   "metadata": {},
   "outputs": [
    {
     "name": "stdout",
     "output_type": "stream",
     "text": [
      "Combined Classifier Accuracy: 0.7247706422018348\n",
      "Precision: 0.7269914081840687\n",
      "Recall: 0.7247706422018348\n",
      "F1 Score: 0.7040632166667806\n",
      "AUC: 0.7062715240011143\n",
      "V Score: 0.5726907827107373\n"
     ]
    }
   ],
   "source": [
    "import pandas as pd\n",
    "from sklearn.model_selection import train_test_split\n",
    "from sklearn.svm import SVC\n",
    "from sklearn.ensemble import RandomForestClassifier\n",
    "from sklearn.neural_network import MLPClassifier\n",
    "from sklearn.metrics import accuracy_score, precision_score, recall_score, f1_score, roc_auc_score, matthews_corrcoef\n",
    "\n",
    "# Load the dataset into a pandas DataFrame\n",
    "dataset_path = r'C:\\Users\\tahsi\\OneDrive\\Desktop\\python_ws\\dataset_NoPCA.csv'\n",
    "df = pd.read_csv(dataset_path)\n",
    "\n",
    "# Split the dataset into input features (X) and classification class (y)\n",
    "X = df.drop('classification', axis=1)  # Update 'target_class' with the actual column name of your target class\n",
    "y = df['classification']\n",
    "\n",
    "# Split the dataset into training and testing sets\n",
    "X_train, X_test, y_train, y_test = train_test_split(X, y, test_size=0.2, random_state=42)\n",
    "\n",
    "# Train SVM classifier\n",
    "svm_clf = SVC()\n",
    "svm_clf.fit(X_train, y_train)\n",
    "\n",
    "# Train Random Forest classifier\n",
    "rf_clf = RandomForestClassifier()\n",
    "rf_clf.fit(X_train, y_train)\n",
    "\n",
    "# Train DNN classifier\n",
    "dnn_clf = MLPClassifier(hidden_layer_sizes=(128, 64))\n",
    "dnn_clf.fit(X_train, y_train)\n",
    "\n",
    "# Make predictions on the testing set\n",
    "svm_preds = svm_clf.predict(X_test)\n",
    "rf_preds = rf_clf.predict(X_test)\n",
    "dnn_preds = dnn_clf.predict(X_test)\n",
    "\n",
    "# Combine predictions using majority voting\n",
    "combined_preds = []\n",
    "for i in range(len(X_test)):\n",
    "    votes = [svm_preds[i], rf_preds[i], dnn_preds[i]]\n",
    "    majority_vote = max(set(votes), key=votes.count)\n",
    "    combined_preds.append(majority_vote)\n",
    "\n",
    "# Calculate evaluation metrics\n",
    "accuracy = accuracy_score(y_test, combined_preds)\n",
    "precision = precision_score(y_test, combined_preds, average='weighted')\n",
    "recall = recall_score(y_test, combined_preds, average='weighted')\n",
    "f1 = f1_score(y_test, combined_preds, average='weighted')\n",
    "auc = roc_auc_score(pd.get_dummies(y_test).values, pd.get_dummies(combined_preds).values, multi_class='ovr')\n",
    "v_score = matthews_corrcoef(y_test, combined_preds)\n",
    "\n",
    "# Print the evaluation metrics\n",
    "print(\"Combined Classifier Accuracy:\", accuracy)\n",
    "print(\"Precision:\", precision)\n",
    "print(\"Recall:\", recall)\n",
    "print(\"F1 Score:\", f1)\n",
    "print(\"AUC:\", auc)\n",
    "print(\"V Score:\", v_score)\n"
   ]
  },
  {
   "cell_type": "code",
   "execution_count": null,
   "id": "12955e6f",
   "metadata": {},
   "outputs": [],
   "source": []
  }
 ],
 "metadata": {
  "kernelspec": {
   "display_name": "Python 3 (ipykernel)",
   "language": "python",
   "name": "python3"
  },
  "language_info": {
   "codemirror_mode": {
    "name": "ipython",
    "version": 3
   },
   "file_extension": ".py",
   "mimetype": "text/x-python",
   "name": "python",
   "nbconvert_exporter": "python",
   "pygments_lexer": "ipython3",
   "version": "3.11.3"
  }
 },
 "nbformat": 4,
 "nbformat_minor": 5
}
