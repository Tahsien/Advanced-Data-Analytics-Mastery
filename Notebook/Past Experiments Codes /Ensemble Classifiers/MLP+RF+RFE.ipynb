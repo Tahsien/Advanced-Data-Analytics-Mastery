{
 "cells": [
  {
   "cell_type": "code",
   "execution_count": 2,
   "id": "d78570c6",
   "metadata": {},
   "outputs": [
    {
     "name": "stdout",
     "output_type": "stream",
     "text": [
      "MLP Cross-Validation Scores: [0.59428571 0.53714286 0.60344828 0.60344828 0.55747126]\n",
      "MLP Cross-Validation Accuracy: 0.5791592775041051\n",
      "Random Forest Cross-Validation Scores: [0.84       0.86285714 0.8908046  0.85632184 0.7816092 ]\n",
      "Random Forest Cross-Validation Accuracy: 0.8463185550082102\n",
      "Accuracy: 0.7568807339449541\n",
      "Precision: 0.7742207533192774\n",
      "Recall: 0.7568807339449541\n",
      "F1 Score: 0.730395751037953\n",
      "AUC: 0.8105438433728646\n",
      "V Score: 0.6478523004019726\n"
     ]
    },
    {
     "name": "stderr",
     "output_type": "stream",
     "text": [
      "C:\\Users\\tahsi\\AppData\\Local\\Programs\\Python\\Python311\\Lib\\site-packages\\sklearn\\metrics\\_classification.py:1344: UndefinedMetricWarning: Precision is ill-defined and being set to 0.0 in labels with no predicted samples. Use `zero_division` parameter to control this behavior.\n",
      "  _warn_prf(average, modifier, msg_start, len(result))\n"
     ]
    },
    {
     "ename": "NameError",
     "evalue": "name 'confusion_matrix' is not defined",
     "output_type": "error",
     "traceback": [
      "\u001b[1;31m---------------------------------------------------------------------------\u001b[0m",
      "\u001b[1;31mNameError\u001b[0m                                 Traceback (most recent call last)",
      "Cell \u001b[1;32mIn[2], line 65\u001b[0m\n\u001b[0;32m     62\u001b[0m \u001b[38;5;28mprint\u001b[39m(\u001b[38;5;124m\"\u001b[39m\u001b[38;5;124mV Score:\u001b[39m\u001b[38;5;124m\"\u001b[39m, v_score)\n\u001b[0;32m     64\u001b[0m \u001b[38;5;66;03m# Calculate and visualize the confusion matrix\u001b[39;00m\n\u001b[1;32m---> 65\u001b[0m confusion_matrix_data \u001b[38;5;241m=\u001b[39m \u001b[43mconfusion_matrix\u001b[49m(y_test, combined_pred)\n\u001b[0;32m     66\u001b[0m plt\u001b[38;5;241m.\u001b[39mfigure(figsize\u001b[38;5;241m=\u001b[39m(\u001b[38;5;241m10\u001b[39m, \u001b[38;5;241m8\u001b[39m))\n\u001b[0;32m     67\u001b[0m sns\u001b[38;5;241m.\u001b[39mheatmap(confusion_matrix_data, annot\u001b[38;5;241m=\u001b[39m\u001b[38;5;28;01mTrue\u001b[39;00m, cmap\u001b[38;5;241m=\u001b[39m\u001b[38;5;124m'\u001b[39m\u001b[38;5;124mBlues\u001b[39m\u001b[38;5;124m'\u001b[39m, fmt\u001b[38;5;241m=\u001b[39m\u001b[38;5;124m'\u001b[39m\u001b[38;5;124md\u001b[39m\u001b[38;5;124m'\u001b[39m)\n",
      "\u001b[1;31mNameError\u001b[0m: name 'confusion_matrix' is not defined"
     ]
    }
   ],
   "source": [
    "import pandas as pd\n",
    "from sklearn.model_selection import train_test_split, cross_val_score\n",
    "from sklearn.neural_network import MLPClassifier\n",
    "from sklearn.ensemble import RandomForestClassifier\n",
    "from sklearn.metrics import accuracy_score, precision_score, recall_score, f1_score, roc_auc_score, matthews_corrcoef\n",
    "import matplotlib.pyplot as plt\n",
    "import seaborn as sns\n",
    "\n",
    "# Load the dataset into a pandas DataFrame\n",
    "dataset_path = r'C:\\Users\\tahsi\\OneDrive\\Desktop\\python_ws\\Feature Selection\\Recursive Feature Elimination(RFE)\\selected_dataset.csv'\n",
    "df = pd.read_csv(dataset_path)\n",
    "\n",
    "# Separate the features and target variable\n",
    "X = df.drop('classification', axis=1)\n",
    "y = df['classification']\n",
    "\n",
    "# Split the data into training and testing sets\n",
    "X_train, X_test, y_train, y_test = train_test_split(X, y, test_size=0.2, random_state=42)\n",
    "\n",
    "# Train the individual classifiers\n",
    "mlp_classifier = MLPClassifier(hidden_layer_sizes=(128, 64))\n",
    "rf_classifier = RandomForestClassifier()\n",
    "\n",
    "# Perform cross-validation on MLP classifier\n",
    "mlp_scores = cross_val_score(mlp_classifier, X_train, y_train, cv=5)\n",
    "print(\"MLP Cross-Validation Scores:\", mlp_scores)\n",
    "print(\"MLP Cross-Validation Accuracy:\", mlp_scores.mean())\n",
    "\n",
    "# Perform cross-validation on Random Forest classifier\n",
    "rf_scores = cross_val_score(rf_classifier, X_train, y_train, cv=5)\n",
    "print(\"Random Forest Cross-Validation Scores:\", rf_scores)\n",
    "print(\"Random Forest Cross-Validation Accuracy:\", rf_scores.mean())\n",
    "\n",
    "# Fit the classifiers on the entire training set\n",
    "mlp_classifier.fit(X_train, y_train)\n",
    "rf_classifier.fit(X_train, y_train)\n",
    "\n",
    "# Make predictions using the individual classifiers\n",
    "mlp_pred = mlp_classifier.predict(X_test)\n",
    "rf_pred = rf_classifier.predict(X_test)\n",
    "\n",
    "# Combine predictions using majority voting\n",
    "combined_pred = []\n",
    "for i in range(len(X_test)):\n",
    "    votes = [mlp_pred[i], rf_pred[i]]  # List of predictions from individual classifiers\n",
    "    combined_pred.append(max(set(votes), key=votes.count))  # Select the most frequent prediction\n",
    "\n",
    "# Calculate evaluation metrics\n",
    "accuracy = accuracy_score(y_test, combined_pred)\n",
    "precision = precision_score(y_test, combined_pred, average='weighted')\n",
    "recall = recall_score(y_test, combined_pred, average='weighted')\n",
    "f1 = f1_score(y_test, combined_pred, average='weighted')\n",
    "auc = roc_auc_score(pd.get_dummies(y_test).values, pd.get_dummies(combined_pred).values, multi_class='ovr')\n",
    "v_score = matthews_corrcoef(y_test, combined_pred)\n",
    "\n",
    "# Print the evaluation metrics\n",
    "print(\"Accuracy:\", accuracy)\n",
    "print(\"Precision:\", precision)\n",
    "print(\"Recall:\", recall)\n",
    "print(\"F1 Score:\", f1)\n",
    "print(\"AUC:\", auc)\n",
    "print(\"V Score:\", v_score)\n",
    "\n",
    "# Calculate and visualize the confusion matrix\n",
    "confusion_matrix_data = confusion_matrix(y_test, combined_pred)\n",
    "plt.figure(figsize=(10, 8))\n",
    "sns.heatmap(confusion_matrix_data, annot=True, cmap='Blues', fmt='d')\n",
    "plt.title('Confusion Matrix')\n",
    "plt.show()\n"
   ]
  },
  {
   "cell_type": "code",
   "execution_count": null,
   "id": "ee6e4b42",
   "metadata": {},
   "outputs": [],
   "source": []
  }
 ],
 "metadata": {
  "kernelspec": {
   "display_name": "Python 3 (ipykernel)",
   "language": "python",
   "name": "python3"
  },
  "language_info": {
   "codemirror_mode": {
    "name": "ipython",
    "version": 3
   },
   "file_extension": ".py",
   "mimetype": "text/x-python",
   "name": "python",
   "nbconvert_exporter": "python",
   "pygments_lexer": "ipython3",
   "version": "3.11.3"
  }
 },
 "nbformat": 4,
 "nbformat_minor": 5
}
