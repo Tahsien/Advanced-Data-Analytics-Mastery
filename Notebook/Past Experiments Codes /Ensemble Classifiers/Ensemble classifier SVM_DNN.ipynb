{
 "cells": [
  {
   "cell_type": "markdown",
   "id": "8ed504d8",
   "metadata": {},
   "source": [
    "# Ensemble classifier\" SVM+DNN\""
   ]
  },
  {
   "cell_type": "code",
   "execution_count": null,
   "id": "35d7f14d",
   "metadata": {},
   "outputs": [],
   "source": [
    "import pandas as pd\n",
    "import gspread\n",
    "from oauth2client.service_account import ServiceAccountCredentials\n",
    "from sklearn.model_selection import train_test_split\n",
    "from sklearn.svm import SVC\n",
    "from sklearn.neural_network import MLPClassifier\n",
    "from sklearn.metrics import accuracy_score\n",
    "\n",
    "# Define the scope and credentials\n",
    "scope = ['https://spreadsheets.google.com/feeds', 'https://www.googleapis.com/auth/drive']\n",
    "credentials = ServiceAccountCredentials.from_json_keyfile_name('credentials.json', scope)\n",
    "\n",
    "# Authenticate and open the Google Sheets document\n",
    "client = gspread.authorize(credentials)\n",
    "sheet = client.open('Osteodata').sheet1  \n",
    "\n",
    "# Get all records from the sheet\n",
    "records = sheet.get_all_records()\n",
    "\n",
    "# Convert the records to a pandas DataFrame\n",
    "df = pd.DataFrame.from_records(records)\n",
    "\n",
    "# Separate the input features (X) and target class labels (y)\n",
    "X = df.drop('classification', axis=1)  # Replace 'TargetColumn' with the name of your target column\n",
    "y = df['classification']\n",
    "\n",
    "# Split the dataset into training and test sets\n",
    "X_train, X_test, y_train, y_test = train_test_split(X, y, test_size=0.2, random_state=42)\n",
    "\n",
    "# Train SVM classifier\n",
    "svm_clf = SVC()\n",
    "svm_clf.fit(X_train, y_train)\n",
    "\n",
    "# Train DNN classifier\n",
    "dnn_clf = MLPClassifier(hidden_layer_sizes=(128, 64))\n",
    "dnn_clf.fit(X_train, y_train)\n",
    "\n",
    "# Get predictions from SVM and DNN classifiers\n",
    "svm_predictions = svm_clf.predict(X_test)\n",
    "dnn_predictions = dnn_clf.predict(X_test)\n",
    "\n",
    "# Merge predictions using majority voting\n",
    "merged_predictions = [max(set([svm_pred, dnn_pred]), key=[svm_pred, dnn_pred].count) for svm_pred, dnn_pred in zip(svm_predictions, dnn_predictions)]\n",
    "\n",
    "# Evaluate the performance of the merged classifier\n",
    "accuracy = accuracy_score(y_test, merged_predictions)\n",
    "print(\"Merged Classifier Accuracy:\", accuracy)\n"
   ]
  }
 ],
 "metadata": {
  "kernelspec": {
   "display_name": "Python 3 (ipykernel)",
   "language": "python",
   "name": "python3"
  },
  "language_info": {
   "codemirror_mode": {
    "name": "ipython",
    "version": 3
   },
   "file_extension": ".py",
   "mimetype": "text/x-python",
   "name": "python",
   "nbconvert_exporter": "python",
   "pygments_lexer": "ipython3",
   "version": "3.11.3"
  }
 },
 "nbformat": 4,
 "nbformat_minor": 5
}
