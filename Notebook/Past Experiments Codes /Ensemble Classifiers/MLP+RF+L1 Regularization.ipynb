{
 "cells": [
  {
   "cell_type": "code",
   "execution_count": 2,
   "id": "cc621c75",
   "metadata": {
    "scrolled": true
   },
   "outputs": [
    {
     "ename": "ModuleNotFoundError",
     "evalue": "No module named 'sklearn'",
     "output_type": "error",
     "traceback": [
      "\u001b[1;31m---------------------------------------------------------------------------\u001b[0m",
      "\u001b[1;31mModuleNotFoundError\u001b[0m                       Traceback (most recent call last)",
      "Cell \u001b[1;32mIn[2], line 2\u001b[0m\n\u001b[0;32m      1\u001b[0m \u001b[38;5;28;01mimport\u001b[39;00m \u001b[38;5;21;01mpandas\u001b[39;00m \u001b[38;5;28;01mas\u001b[39;00m \u001b[38;5;21;01mpd\u001b[39;00m\n\u001b[1;32m----> 2\u001b[0m \u001b[38;5;28;01mfrom\u001b[39;00m \u001b[38;5;21;01msklearn\u001b[39;00m\u001b[38;5;21;01m.\u001b[39;00m\u001b[38;5;21;01mmodel_selection\u001b[39;00m \u001b[38;5;28;01mimport\u001b[39;00m train_test_split, cross_val_score\n\u001b[0;32m      3\u001b[0m \u001b[38;5;28;01mfrom\u001b[39;00m \u001b[38;5;21;01msklearn\u001b[39;00m\u001b[38;5;21;01m.\u001b[39;00m\u001b[38;5;21;01mneural_network\u001b[39;00m \u001b[38;5;28;01mimport\u001b[39;00m MLPClassifier\n\u001b[0;32m      4\u001b[0m \u001b[38;5;28;01mfrom\u001b[39;00m \u001b[38;5;21;01msklearn\u001b[39;00m\u001b[38;5;21;01m.\u001b[39;00m\u001b[38;5;21;01mensemble\u001b[39;00m \u001b[38;5;28;01mimport\u001b[39;00m RandomForestClassifier\n",
      "\u001b[1;31mModuleNotFoundError\u001b[0m: No module named 'sklearn'"
     ]
    }
   ],
   "source": [
    "import matplotlib.pyplot as plt\n",
    "import numpy as np\n",
    "\n",
    "# Data for the histogram\n",
    "feature_methods = [\n",
    "    \"L1 Regularization (Lasso)\", \n",
    "    \"Recursive Feature Elimination (RFE)\", \n",
    "    \"SelectKBest\", \n",
    "    \"Tree-Based Feature Importance\"\n",
    "]\n",
    "classification_method = \"VotingClassifier (DecisionTreeClassifier)\"\n",
    "metrics = {\n",
    "    'Accuracy': [94.720, 88.530, 75.230, 95.410],\n",
    "    'Precision': [94.660, 89.840, 75.860, 94.990],\n",
    "    'Recall': [94.720, 88.530, 75.230, 95.410],\n",
    "    'F1 Score': [94.620, 89.070, 75.200, 95.090],\n",
    "    'AUC': [92.820, 87.350, 76.900, 90.860],\n",
    "    'V Score': [91.840, 82.460, 62.190, 92.880]\n",
    "}\n",
    "\n",
    "bar_width = 0.13\n",
    "index = np.arange(len(feature_methods))\n",
    "\n",
    "fig, ax = plt.subplots(figsize=(12, 6))\n",
    "\n",
    "bars = []\n",
    "for i, (metric, values) in enumerate(metrics.items()):\n",
    "    bar = plt.bar(index + i * bar_width, values, bar_width, label=metric)\n",
    "    bars.append(bar)\n",
    "\n",
    "plt.xlabel('Feature Selection Methods + VotingClassifier (DecisionTreeClassifier)', fontsize=12)\n",
    "plt.ylabel('Percentage', fontsize=12)\n",
    "plt.title(f'Performance Metrics for {classification_method}', fontsize=14)\n",
    "plt.xticks(index + 2.5 * bar_width, feature_methods, rotation=45, fontsize=10)\n",
    "plt.legend()\n",
    "\n",
    "plt.tight_layout()\n",
    "plt.savefig('/mnt/data/Performance_Metrics_Histogram.png')\n",
    "plt.show()"
   ]
  },
  {
   "cell_type": "code",
   "execution_count": null,
   "id": "93a33d7e",
   "metadata": {},
   "outputs": [],
   "source": []
  }
 ],
 "metadata": {
  "kernelspec": {
   "display_name": "Python 3 (ipykernel)",
   "language": "python",
   "name": "python3"
  },
  "language_info": {
   "codemirror_mode": {
    "name": "ipython",
    "version": 3
   },
   "file_extension": ".py",
   "mimetype": "text/x-python",
   "name": "python",
   "nbconvert_exporter": "python",
   "pygments_lexer": "ipython3",
   "version": "3.10.10"
  }
 },
 "nbformat": 4,
 "nbformat_minor": 5
}
