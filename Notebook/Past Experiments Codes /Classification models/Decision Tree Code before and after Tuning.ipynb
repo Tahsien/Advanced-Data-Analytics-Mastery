{
 "cells": [
  {
   "cell_type": "code",
   "execution_count": 1,
   "id": "1d44bc82",
   "metadata": {},
   "outputs": [
    {
     "name": "stdout",
     "output_type": "stream",
     "text": [
      "Column names in the dataset:\n",
      "Index(['customerID', 'gender', 'SeniorCitizen', 'Partner', 'Dependents',\n",
      "       'tenure', 'PhoneService', 'MultipleLines', 'InternetService',\n",
      "       'OnlineSecurity', 'OnlineBackup', 'DeviceProtection', 'TechSupport',\n",
      "       'StreamingTV', 'StreamingMovies', 'Contract', 'PaperlessBilling',\n",
      "       'PaymentMethod', 'MonthlyCharges', 'TotalCharges', 'Churn'],\n",
      "      dtype='object')\n",
      "### Before Hyperparameter Tuning ###\n"
     ]
    },
    {
     "data": {
      "image/png": "[encoded data removed]",
      "text/plain": [
       "<Figure size 640x480 with 2 Axes>"
      ]
     },
     "metadata": {},
     "output_type": "display_data"
    },
    {
     "name": "stdout",
     "output_type": "stream",
     "text": [
      "Accuracy (Before Tuning): 0.7218\n",
      "Precision (Before Tuning): 0.4748\n",
      "Recall (Before Tuning): 0.4799\n",
      "F1 Score (Before Tuning): 0.4773\n",
      "\n",
      "### After Hyperparameter Tuning ###\n"
     ]
    },
    {
     "ename": "NameError",
     "evalue": "name 'cm_after' is not defined",
     "output_type": "error",
     "traceback": [
      "\u001b[1;31m---------------------------------------------------------------------------\u001b[0m",
      "\u001b[1;31mNameError\u001b[0m                                 Traceback (most recent call last)",
      "Cell \u001b[1;32mIn[1], line 83\u001b[0m\n\u001b[0;32m     80\u001b[0m y_pred_after \u001b[38;5;241m=\u001b[39m clf_after\u001b[38;5;241m.\u001b[39mpredict(X_test)\n\u001b[0;32m     82\u001b[0m \u001b[38;5;66;03m# Create a confusion matrix\u001b[39;00m\n\u001b[1;32m---> 83\u001b[0m sns\u001b[38;5;241m.\u001b[39mheatmap(\u001b[43mcm_after\u001b[49m, annot\u001b[38;5;241m=\u001b[39m\u001b[38;5;28;01mTrue\u001b[39;00m, fmt\u001b[38;5;241m=\u001b[39m\u001b[38;5;124m'\u001b[39m\u001b[38;5;124mg\u001b[39m\u001b[38;5;124m'\u001b[39m, cmap\u001b[38;5;241m=\u001b[39m\u001b[38;5;124m'\u001b[39m\u001b[38;5;124mBlues\u001b[39m\u001b[38;5;124m'\u001b[39m)  \u001b[38;5;66;03m# fmt='g' to show full numbers\u001b[39;00m\n\u001b[0;32m     84\u001b[0m plt\u001b[38;5;241m.\u001b[39mtitle(\u001b[38;5;124m'\u001b[39m\u001b[38;5;124mConfusion Matrix (After Tuning)\u001b[39m\u001b[38;5;124m'\u001b[39m)\n\u001b[0;32m     85\u001b[0m plt\u001b[38;5;241m.\u001b[39mxlabel(\u001b[38;5;124m'\u001b[39m\u001b[38;5;124mPredicted\u001b[39m\u001b[38;5;124m'\u001b[39m)\n",
      "\u001b[1;31mNameError\u001b[0m: name 'cm_after' is not defined"
     ]
    }
   ],
   "source": [
    "# Import necessary libraries\n",
    "import pandas as pd\n",
    "from sklearn.model_selection import train_test_split\n",
    "from sklearn.tree import DecisionTreeClassifier, plot_tree\n",
    "from sklearn.metrics import accuracy_score, precision_score, recall_score, f1_score, confusion_matrix\n",
    "import matplotlib.pyplot as plt\n",
    "import seaborn as sns\n",
    "import numpy as np\n",
    "\n",
    "# Load the dataset into a pandas DataFrame\n",
    "dataset_path = r'C:\\Users\\tahsi\\OneDrive\\Desktop\\python_ws\\telco-churn.csv'\n",
    "df = pd.read_csv(dataset_path)\n",
    "\n",
    "# Check the column names\n",
    "print(\"Column names in the dataset:\")  # This line should have print() to display properly\n",
    "print(df.columns)\n",
    "\n",
    "# Exclude 'customerID' as it is irrelevant for modeling\n",
    "df = df.drop(['customerID'], axis=1)\n",
    "\n",
    "# Convert 'TotalCharges' to numeric (handling any errors due to empty strings)\n",
    "df['TotalCharges'] = pd.to_numeric(df['TotalCharges'], errors='coerce')\n",
    "\n",
    "# Fill any missing values in 'TotalCharges'\n",
    "df['TotalCharges'] = df['TotalCharges'].fillna(df['TotalCharges'].median())\n",
    "\n",
    "# Encode categorical columns using one-hot encoding or label encoding\n",
    "df = pd.get_dummies(df, drop_first=True)\n",
    "\n",
    "# Define features and target variable\n",
    "X = df.drop('Churn_Yes', axis=1)  # Adjust this if your churn column has a different name\n",
    "y = df['Churn_Yes']  # Target is whether the customer churned or not\n",
    "\n",
    "# Split the data into training and test sets\n",
    "X_train, X_test, y_train, y_test = train_test_split(X, y, test_size=0.2, random_state=42)\n",
    "\n",
    "# Before Hyperparameter Tuning \n",
    "print(\"### Before Hyperparameter Tuning ###\")\n",
    "\n",
    "# Create a decision tree classifier (default settings)\n",
    "clf_before = DecisionTreeClassifier()\n",
    "\n",
    "# Train the model\n",
    "clf_before.fit(X_train, y_train)\n",
    "\n",
    "# Predict the response for the test dataset\n",
    "y_pred_before = clf_before.predict(X_test)\n",
    "\n",
    "# Create a confusion matrix\n",
    "cm_before = confusion_matrix(y_test, y_pred_before)\n",
    "\n",
    "# Visualise the confusion matrix\n",
    "sns.heatmap(cm_before, annot=True, cmap='Blues_r')\n",
    "plt.title('Confusion Matrix (Before Tuning)')\n",
    "plt.xlabel('Predicted')\n",
    "plt.ylabel('Actual')\n",
    "plt.show()\n",
    "\n",
    "# Print evaluation metrics for before tuning\n",
    "accuracy_before = accuracy_score(y_test, y_pred_before)\n",
    "precision_before = precision_score(y_test, y_pred_before)\n",
    "recall_before = recall_score(y_test, y_pred_before)\n",
    "f1_before = f1_score(y_test, y_pred_before)\n",
    "\n",
    "print(f\"Accuracy (Before Tuning): {accuracy_before:.4f}\")\n",
    "print(f\"Precision (Before Tuning): {precision_before:.4f}\")\n",
    "print(f\"Recall (Before Tuning): {recall_before:.4f}\")\n",
    "print(f\"F1 Score (Before Tuning): {f1_before:.4f}\")\n",
    "\n",
    "# After Hyperparameter Tuning \n",
    "print(\"\\n### After Hyperparameter Tuning ###\")\n",
    "\n",
    "# Create a decision tree classifier with hyperparameters\n",
    "clf_after = DecisionTreeClassifier(max_depth=6, min_samples_split=30, criterion='entropy')\n",
    "\n",
    "# Train the model\n",
    "clf_after.fit(X_train, y_train)\n",
    "\n",
    "# Predict the response for the test dataset\n",
    "y_pred_after = clf_after.predict(X_test)\n",
    "\n",
    "# Create a confusion matrix\n",
    "sns.heatmap(cm_after, annot=True, fmt='g', cmap='Blues')  # fmt='g' to show full numbers\n",
    "plt.title('Confusion Matrix (After Tuning)')\n",
    "plt.xlabel('Predicted')\n",
    "plt.ylabel('Actual')\n",
    "plt.show()\n",
    "\n",
    "\n",
    "# Print evaluation metrics for after tuning\n",
    "accuracy_after = accuracy_score(y_test, y_pred_after)\n",
    "precision_after = precision_score(y_test, y_pred_after)\n",
    "recall_after = recall_score(y_test, y_pred_after)\n",
    "f1_after = f1_score(y_test, y_pred_after)\n",
    "\n",
    "print(f\"Accuracy (After Tuning): {accuracy_after:.4f}\")\n",
    "print(f\"Precision (After Tuning): {precision_after:.4f}\")\n",
    "print(f\"Recall (After Tuning): {recall_after:.4f}\")\n",
    "print(f\"F1 Score (After Tuning): {f1_after:.4f}\")\n",
    "\n",
    "# Display comparison of both results\n",
    "print(\"\\n### Performance Comparison ###\")\n",
    "print(f\"Accuracy: Before = {accuracy_before:.4f}, After = {accuracy_after:.4f}\")\n",
    "print(f\"Precision: Before = {precision_before:.4f}, After = {precision_after:.4f}\")\n",
    "print(f\"Recall: Before = {recall_before:.4f}, After = {recall_after:.4f}\")\n",
    "print(f\"F1 Score: Before = {f1_before:.4f}, After = {f1_after:.4f}\")\n"
   ]
  },
  {
   "cell_type": "code",
   "execution_count": null,
   "id": "7d750c0d",
   "metadata": {},
   "outputs": [],
   "source": []
  },
  {
   "cell_type": "code",
   "execution_count": null,
   "id": "cdc53787",
   "metadata": {},
   "outputs": [],
   "source": []
  }
 ],
 "metadata": {
  "kernelspec": {
   "display_name": "Python 3 (ipykernel)",
   "language": "python",
   "name": "python3"
  },
  "language_info": {
   "codemirror_mode": {
    "name": "ipython",
    "version": 3
   },
   "file_extension": ".py",
   "mimetype": "text/x-python",
   "name": "python",
   "nbconvert_exporter": "python",
   "pygments_lexer": "ipython3",
   "version": "3.10.10"
  }
 },
 "nbformat": 4,
 "nbformat_minor": 5
}
