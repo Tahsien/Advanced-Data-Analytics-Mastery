{
 "cells": [
  {
   "cell_type": "code",
   "execution_count": 5,
   "id": "bedf7c19",
   "metadata": {},
   "outputs": [
    {
     "name": "stdout",
     "output_type": "stream",
     "text": [
      "Gradient Boosting Accuracy: 0.991\n",
      "Gradient Boosting Classification Report:\n",
      "              precision    recall  f1-score   support\n",
      "\n",
      "           0       0.99      1.00      0.99       895\n",
      "           1       0.99      0.92      0.96       105\n",
      "\n",
      "    accuracy                           0.99      1000\n",
      "   macro avg       0.99      0.96      0.98      1000\n",
      "weighted avg       0.99      0.99      0.99      1000\n",
      "\n",
      "Gradient Boosting Confusion Matrix:\n",
      "[[894   1]\n",
      " [  8  97]]\n"
     ]
    }
   ],
   "source": [
    "import pandas as pd\n",
    "import numpy as np\n",
    "from sklearn.ensemble import GradientBoostingClassifier\n",
    "from sklearn.model_selection import train_test_split\n",
    "from sklearn.metrics import accuracy_score, classification_report, confusion_matrix\n",
    "\n",
    "# Load the dataset into a pandas DataFrame\n",
    "dataset_path = r'C:\\Users\\tahsi\\OneDrive\\Desktop\\python_ws\\bankloan.csv'\n",
    "df = pd.read_csv(dataset_path)\n",
    "\n",
    "# Feature Engineering: Create new features\n",
    "df['Income_per_Family'] = df['Income'] / df['Family']  # Calculate income per family member\n",
    "df['Experience_per_Age'] = df['Experience'] / df['Age']  # Calculate experience to age ratio\n",
    "df['CCAvg_per_Income'] = df['CCAvg'] / df['Income']  # Calculate credit card average spending relative to income\n",
    "\n",
    "# Save the dataset with the new features to a CSV file\n",
    "output_dataset_path = r'C:\\Users\\tahsi\\Documents\\bankloan_with_features.csv'\n",
    "df.to_csv(output_dataset_path, index=False)\n",
    "\n",
    "# Define features and target\n",
    "X = df.drop(columns=['ID', 'ZIP.Code', 'Personal.Loan'])  # Drop unnecessary columns and target variable\n",
    "y = df['Personal.Loan']  # Target variable\n",
    "\n",
    "# Split the data into training and testing sets\n",
    "X_train, X_test, y_train, y_test = train_test_split(X, y, test_size=0.2, random_state=42)\n",
    "\n",
    "# Initialize the Gradient Boosting model with hyperparameters\n",
    "gbm = GradientBoostingClassifier(n_estimators=100, learning_rate=0.1, max_depth=5, random_state=42)\n",
    "\n",
    "# Train the model\n",
    "gbm.fit(X_train, y_train)\n",
    "\n",
    "# Predict on the test set\n",
    "y_pred_gbm = gbm.predict(X_test)\n",
    "\n",
    "# Evaluate the model\n",
    "accuracy_gbm = accuracy_score(y_test, y_pred_gbm)\n",
    "print(f'Gradient Boosting Accuracy: {accuracy_gbm}')\n",
    "print('Gradient Boosting Classification Report:')\n",
    "print(classification_report(y_test, y_pred_gbm))\n",
    "print('Gradient Boosting Confusion Matrix:')\n",
    "print(confusion_matrix(y_test, y_pred_gbm))\n"
   ]
  },
  {
   "cell_type": "code",
   "execution_count": null,
   "id": "c355e84b",
   "metadata": {},
   "outputs": [],
   "source": []
  }
 ],
 "metadata": {
  "kernelspec": {
   "display_name": "Python 3 (ipykernel)",
   "language": "python",
   "name": "python3"
  },
  "language_info": {
   "codemirror_mode": {
    "name": "ipython",
    "version": 3
   },
   "file_extension": ".py",
   "mimetype": "text/x-python",
   "name": "python",
   "nbconvert_exporter": "python",
   "pygments_lexer": "ipython3",
   "version": "3.10.10"
  }
 },
 "nbformat": 4,
 "nbformat_minor": 5
}
