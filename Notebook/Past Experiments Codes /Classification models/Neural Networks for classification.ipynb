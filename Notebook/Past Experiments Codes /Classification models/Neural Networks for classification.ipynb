{
 "cells": [
  {
   "cell_type": "markdown",
   "id": "f4dd4a96",
   "metadata": {},
   "source": [
    "# Classification of Osteosarcoma using Neural Networks "
   ]
  },
  {
   "cell_type": "code",
   "execution_count": 5,
   "id": "a366cfe2",
   "metadata": {},
   "outputs": [
    {
     "name": "stdout",
     "output_type": "stream",
     "text": [
      "Epoch 1/10\n",
      "28/28 [==============================] - 0s 889us/step - loss: 5923.3301 - accuracy: 0.3647\n",
      "Epoch 2/10\n",
      "28/28 [==============================] - 0s 781us/step - loss: 1092.7008 - accuracy: 0.3372\n",
      "Epoch 3/10\n",
      "28/28 [==============================] - 0s 783us/step - loss: 475.8667 - accuracy: 0.3658\n",
      "Epoch 4/10\n",
      "28/28 [==============================] - 0s 748us/step - loss: 381.5863 - accuracy: 0.3521\n",
      "Epoch 5/10\n",
      "28/28 [==============================] - 0s 710us/step - loss: 248.3002 - accuracy: 0.4106\n",
      "Epoch 6/10\n",
      "28/28 [==============================] - 0s 741us/step - loss: 239.9796 - accuracy: 0.4312\n",
      "Epoch 7/10\n",
      "28/28 [==============================] - 0s 741us/step - loss: 209.9521 - accuracy: 0.4048\n",
      "Epoch 8/10\n",
      "28/28 [==============================] - 0s 746us/step - loss: 193.6370 - accuracy: 0.4622\n",
      "Epoch 9/10\n",
      "28/28 [==============================] - 0s 744us/step - loss: 181.5961 - accuracy: 0.4656\n",
      "Epoch 10/10\n",
      "28/28 [==============================] - 0s 747us/step - loss: 191.2373 - accuracy: 0.4518\n",
      "Accuracy: 0.4954128563404083\n"
     ]
    }
   ],
   "source": [
    "### import pandas as pd\n",
    "import pandas as pd\n",
    "import numpy as np\n",
    "from sklearn.model_selection import train_test_split\n",
    "from sklearn.preprocessing import LabelEncoder\n",
    "from tensorflow.keras.models import Sequential\n",
    "from tensorflow.keras.layers import Dense\n",
    "from tensorflow.keras.utils import to_categorical\n",
    "\n",
    "# Load the dataset\n",
    "data = pd.read_csv(\"dataset_NoPCA.csv\")\n",
    "\n",
    "# Preprocess the dataset and split into features and target variable\n",
    "X = data.drop(\"classification\", axis=1)\n",
    "y = data[\"classification\"]\n",
    "\n",
    "# Convert target variable to numerical labels\n",
    "label_encoder = LabelEncoder()\n",
    "y = label_encoder.fit_transform(y)\n",
    "num_classes = len(label_encoder.classes_)\n",
    "\n",
    "# Split the dataset into training and test sets\n",
    "X_train, X_test, y_train, y_test = train_test_split(X, y, test_size=0.2, random_state=42)\n",
    "\n",
    "# Convert labels to one-hot encoding\n",
    "y_train = to_categorical(y_train, num_classes)\n",
    "y_test = to_categorical(y_test, num_classes)\n",
    "\n",
    "# Build the deep learning classifier\n",
    "model = Sequential()\n",
    "model.add(Dense(64, activation='relu', input_dim=X_train.shape[1]))\n",
    "model.add(Dense(64, activation='relu'))\n",
    "model.add(Dense(num_classes, activation='softmax'))\n",
    "\n",
    "# Compile the model\n",
    "model.compile(loss='categorical_crossentropy', optimizer='adam', metrics=['accuracy'])\n",
    "\n",
    "# Train the model\n",
    "model.fit(X_train, y_train, epochs=10, batch_size=32, verbose=1)\n",
    "\n",
    "# Evaluate the model\n",
    "_, accuracy = model.evaluate(X_test, y_test, verbose=0)\n",
    "print(\"Accuracy:\", accuracy)\n"
   ]
  },
  {
   "cell_type": "code",
   "execution_count": null,
   "id": "ac7537dd",
   "metadata": {},
   "outputs": [],
   "source": []
  }
 ],
 "metadata": {
  "kernelspec": {
   "display_name": "Python 3 (ipykernel)",
   "language": "python",
   "name": "python3"
  },
  "language_info": {
   "codemirror_mode": {
    "name": "ipython",
    "version": 3
   },
   "file_extension": ".py",
   "mimetype": "text/x-python",
   "name": "python",
   "nbconvert_exporter": "python",
   "pygments_lexer": "ipython3",
   "version": "3.11.3"
  }
 },
 "nbformat": 4,
 "nbformat_minor": 5
}
