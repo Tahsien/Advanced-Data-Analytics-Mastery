{
 "cells": [
  {
   "cell_type": "code",
   "execution_count": 3,
   "id": "28ed3152",
   "metadata": {},
   "outputs": [
    {
     "name": "stdout",
     "output_type": "stream",
     "text": [
      "Columns in the dataset: Index(['customerID', 'gender', 'SeniorCitizen', 'Partner', 'Dependents',\n",
      "       'tenure', 'PhoneService', 'MultipleLines', 'InternetService',\n",
      "       'OnlineSecurity', 'OnlineBackup', 'DeviceProtection', 'TechSupport',\n",
      "       'StreamingTV', 'StreamingMovies', 'Contract', 'PaperlessBilling',\n",
      "       'PaymentMethod', 'MonthlyCharges', 'TotalCharges', 'Churn'],\n",
      "      dtype='object')\n",
      "Gradient Boosting Accuracy: 0.815471965933286\n",
      "Gradient Boosting Classification Report:\n",
      "              precision    recall  f1-score   support\n",
      "\n",
      "           0       0.84      0.92      0.88      1036\n",
      "           1       0.70      0.52      0.60       373\n",
      "\n",
      "    accuracy                           0.82      1409\n",
      "   macro avg       0.77      0.72      0.74      1409\n",
      "weighted avg       0.81      0.82      0.81      1409\n",
      "\n",
      "Gradient Boosting Confusion Matrix:\n",
      "[[954  82]\n",
      " [178 195]]\n"
     ]
    }
   ],
   "source": [
    "import pandas as pd\n",
    "import numpy as np\n",
    "from sklearn.ensemble import GradientBoostingClassifier\n",
    "from sklearn.model_selection import train_test_split\n",
    "from sklearn.metrics import accuracy_score, classification_report, confusion_matrix\n",
    "\n",
    "# Load the dataset into a pandas DataFrame\n",
    "dataset_path = r'C:\\Users\\tahsi\\OneDrive\\Desktop\\python_ws\\telco-churn.csv'\n",
    "df = pd.read_csv(dataset_path)\n",
    "\n",
    "# Check the columns in the dataset\n",
    "print(\"Columns in the dataset:\", df.columns)\n",
    "\n",
    "# Define features and target\n",
    "# Assuming 'Churn' is the target variable and 'customerID' is an ID column to be dropped\n",
    "X = df.drop(columns=['customerID', 'Churn'], errors='ignore')  # Use errors='ignore' to avoid KeyError\n",
    "y = df['Churn'].apply(lambda x: 1 if x == 'Yes' else 0)  # Convert target to binary (0 and 1)\n",
    "\n",
    "# Handle categorical variables if any\n",
    "# This is a basic encoding; consider using more sophisticated methods if needed\n",
    "X = pd.get_dummies(X)\n",
    "\n",
    "# Split the data into training and testing sets\n",
    "X_train, X_test, y_train, y_test = train_test_split(X, y, test_size=0.2, random_state=42)\n",
    "\n",
    "# Initialize the Gradient Boosting model\n",
    "gbm = GradientBoostingClassifier(random_state=42)\n",
    "\n",
    "# Train the model\n",
    "gbm.fit(X_train, y_train)\n",
    "\n",
    "# Predict on the test set\n",
    "y_pred_gbm = gbm.predict(X_test)\n",
    "\n",
    "# Evaluate the model\n",
    "accuracy_gbm = accuracy_score(y_test, y_pred_gbm)\n",
    "print(f'Gradient Boosting Accuracy: {accuracy_gbm}')\n",
    "print('Gradient Boosting Classification Report:')\n",
    "print(classification_report(y_test, y_pred_gbm))\n",
    "print('Gradient Boosting Confusion Matrix:')\n",
    "print(confusion_matrix(y_test, y_pred_gbm))\n"
   ]
  },
  {
   "cell_type": "code",
   "execution_count": null,
   "id": "58092081",
   "metadata": {},
   "outputs": [],
   "source": []
  }
 ],
 "metadata": {
  "kernelspec": {
   "display_name": "Python 3 (ipykernel)",
   "language": "python",
   "name": "python3"
  },
  "language_info": {
   "codemirror_mode": {
    "name": "ipython",
    "version": 3
   },
   "file_extension": ".py",
   "mimetype": "text/x-python",
   "name": "python",
   "nbconvert_exporter": "python",
   "pygments_lexer": "ipython3",
   "version": "3.10.10"
  }
 },
 "nbformat": 4,
 "nbformat_minor": 5
}
