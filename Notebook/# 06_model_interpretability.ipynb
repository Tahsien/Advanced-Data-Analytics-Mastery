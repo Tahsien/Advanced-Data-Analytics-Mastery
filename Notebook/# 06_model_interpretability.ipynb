{
 "cells": [
  {
   "cell_type": "code",
   "execution_count": null,
   "id": "afd0761d",
   "metadata": {},
   "outputs": [],
   "source": [
    "# 06_model_interpretability.ipynb\n",
    "\"\"\"\n",
    "This notebook explains SHAP, LIME, and other XAI techniques.\n",
    "\"\"\"\n",
    "\n",
    "import shap\n",
    "from lime.lime_tabular import LimeTabularExplainer\n",
    "\n",
    "# SHAP analysis\n",
    "explainer = shap.TreeExplainer(model)\n",
    "shap_values = explainer.shap_values(X_test)\n",
    "\n",
    "# Plot SHAP summary\n",
    "shap.summary_plot(shap_values, X_test)\n",
    "\n",
    "# LIME analysis\n",
    "lime_explainer = LimeTabularExplainer(X_train.values, feature_names=X_train.columns, class_names=['Class 0', 'Class 1'], mode='classification')\n",
    "explanation = lime_explainer.explain_instance(X_test.iloc[0].values, model.predict_proba)\n",
    "explanation.show_in_notebook()\n"
   ]
  }
 ],
 "metadata": {
  "kernelspec": {
   "display_name": "Python 3 (ipykernel)",
   "language": "python",
   "name": "python3"
  },
  "language_info": {
   "codemirror_mode": {
    "name": "ipython",
    "version": 3
   },
   "file_extension": ".py",
   "mimetype": "text/x-python",
   "name": "python",
   "nbconvert_exporter": "python",
   "pygments_lexer": "ipython3",
   "version": "3.10.10"
  }
 },
 "nbformat": 4,
 "nbformat_minor": 5
}
