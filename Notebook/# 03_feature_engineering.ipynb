{
 "cells": [
  {
   "cell_type": "code",
   "execution_count": null,
   "id": "d16be5fa",
   "metadata": {},
   "outputs": [],
   "source": [
    "# 03_feature_engineering.ipynb\n",
    "\"\"\"\n",
    "This notebook includes encoding, scaling, and feature selection.\n",
    "\"\"\"\n",
    "\n",
    "# Encoding categorical variables\n",
    "from sklearn.preprocessing import OneHotEncoder\n",
    "encoder = OneHotEncoder()\n",
    "encoded_features = encoder.fit_transform(df[['categorical_column']]).toarray()\n",
    "\n",
    "# Add encoded features back to the DataFrame\n",
    "encoded_df = pd.DataFrame(encoded_features, columns=encoder.get_feature_names_out())\n",
    "df = pd.concat([df, encoded_df], axis=1)\n",
    "\n",
    "# Feature selection using correlation\n",
    "correlation_threshold = 0.8\n",
    "correlated_features = [col for col in df.columns if df[col].corr(df['target_column']) > correlation_threshold]\n",
    "\n",
    "# Keep only selected features\n",
    "df_selected = df[correlated_features]"
   ]
  }
 ],
 "metadata": {
  "kernelspec": {
   "display_name": "Python 3 (ipykernel)",
   "language": "python",
   "name": "python3"
  },
  "language_info": {
   "codemirror_mode": {
    "name": "ipython",
    "version": 3
   },
   "file_extension": ".py",
   "mimetype": "text/x-python",
   "name": "python",
   "nbconvert_exporter": "python",
   "pygments_lexer": "ipython3",
   "version": "3.10.10"
  }
 },
 "nbformat": 4,
 "nbformat_minor": 5
}
