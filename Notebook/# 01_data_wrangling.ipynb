{
 "cells": [
  {
   "cell_type": "code",
   "execution_count": null,
   "id": "92f95087",
   "metadata": {},
   "outputs": [],
   "source": [
    "# 01_data_wrangling.ipynb\n",
    "\"\"\"\n",
    "This notebook covers data cleaning and preprocessing techniques.\n",
    "\"\"\"\n",
    "\n",
    "# Import necessary libraries\n",
    "import pandas as pd\n",
    "import numpy as np\n",
    "from sklearn.preprocessing import MinMaxScaler\n",
    "\n",
    "# Load a dataset\n",
    "file_path = r\"C:\\Users\\tahsi\\OneDrive\\Desktop\\Research Papers\\Customer Churn\\Customer-churn-records.csv\"\n",
    "try:\n",
    "    df = pd.read_csv(file_path)\n",
    "    print(\"Dataset loaded successfully.\")\n",
    "except FileNotFoundError:\n",
    "    print(f\"File not found at {file_path}. Please check the file path.\")\n",
    "    # Generate synthetic data if file is missing\n",
    "    df = pd.DataFrame({\n",
    "        \"A\": np.random.randint(0, 100, 10),\n",
    "        \"B\": np.random.randint(0, 100, 10),\n",
    "        \"C\": np.random.randint(0, 100, 10)\n",
    "    })\n",
    "except Exception as e:\n",
    "    print(f\"An error occurred: {e}\")\n",
    "\n",
    "# Preview the dataset\n",
    "print(\"Dataset Preview:\")\n",
    "print(df.head())\n",
    "\n",
    "# Check dataset info and missing values\n",
    "print(\"\\nDataset Info:\")\n",
    "print(df.info())\n",
    "print(\"\\nMissing Values:\")\n",
    "print(df.isnull().sum())\n",
    "\n",
    "# Handle missing values\n",
    "# Fill missing numeric values with the mean\n",
    "df.fillna(df.mean(), inplace=True)\n",
    "\n",
    "# Drop duplicate rows\n",
    "df.drop_duplicates(inplace=True)\n",
    "\n",
    "# Normalize numerical features\n",
    "scaler = MinMaxScaler()\n",
    "df_scaled = pd.DataFrame(scaler.fit_transform(df), columns=df.columns)\n",
    "\n",
    "# Save the cleaned dataset\n",
    "output_path = r\"C:\\Users\\tahsi\\OneDrive\\Desktop\\Research Papers\\Customer Churn\\cleaned_customer_churn.csv\"\n",
    "try:\n",
    "    df_scaled.to_csv(output_path, index=False)\n",
    "    print(f\"Cleaned dataset saved successfully at {output_path}.\")\n",
    "except Exception as e:\n",
    "    print(f\"Error saving the file: {e}\")"
   ]
  }
 ],
 "metadata": {
  "kernelspec": {
   "display_name": "Python 3 (ipykernel)",
   "language": "python",
   "name": "python3"
  },
  "language_info": {
   "codemirror_mode": {
    "name": "ipython",
    "version": 3
   },
   "file_extension": ".py",
   "mimetype": "text/x-python",
   "name": "python",
   "nbconvert_exporter": "python",
   "pygments_lexer": "ipython3",
   "version": "3.10.10"
  }
 },
 "nbformat": 4,
 "nbformat_minor": 5
}
