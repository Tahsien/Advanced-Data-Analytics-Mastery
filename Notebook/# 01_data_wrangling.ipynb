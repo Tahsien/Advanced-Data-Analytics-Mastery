# 01_data_wrangling.ipynb
"""
This notebook covers data cleaning and preprocessing techniques.
"""
# Import necessary libraries
import pandas as pd
import numpy as np
# Load a dataset
file_path = "../datasets/sample_data.csv"
df = pd.read_csv(file_path)
# Preview the dataset
df.head()
# Handle missing values
# Fill missing numeric values with the mean
df.fillna(df.mean(), inplace=True)
# Drop duplicate rows
df.drop_duplicates(inplace=True)
# Normalize numerical features
from sklearn.preprocessing import MinMaxScaler
scaler = MinMaxScaler()
df_scaled = pd.DataFrame(scaler.fit_transform(df), columns=df.columns)
# Save the cleaned dataset
df_scaled.to_csv("../datasets/cleaned_data.csv", index=False)
