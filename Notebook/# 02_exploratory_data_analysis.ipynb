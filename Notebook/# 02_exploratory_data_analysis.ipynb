{
 "cells": [
  {
   "cell_type": "code",
   "execution_count": null,
   "id": "2960d09c",
   "metadata": {},
   "outputs": [],
   "source": [
    "# 02_exploratory_data_analysis.ipynb\n",
    "\"\"\"\n",
    "This notebook focuses on exploratory data analysis (EDA) techniques.\n",
    "\"\"\"\n",
    "\n",
    "import matplotlib.pyplot as plt\n",
    "import seaborn as sns\n",
    "\n",
    "# Summary statistics\n",
    "df.describe()\n",
    "\n",
    "# Correlation heatmap\n",
    "plt.figure(figsize=(10, 8))\n",
    "sns.heatmap(df.corr(), annot=True, cmap=\"coolwarm\")\n",
    "plt.title(\"Correlation Heatmap\")\n",
    "plt.show()\n",
    "\n",
    "# Distribution plot for a specific column\n",
    "sns.histplot(df['column_name'], kde=True)\n",
    "plt.title(\"Distribution of Column\")\n",
    "plt.show()\n",
    "\n",
    "# Boxplot to identify outliers\n",
    "sns.boxplot(x=df['column_name'])\n",
    "plt.title(\"Boxplot of Column\")\n",
    "plt.show()\n"
   ]
  }
 ],
 "metadata": {
  "kernelspec": {
   "display_name": "Python 3 (ipykernel)",
   "language": "python",
   "name": "python3"
  },
  "language_info": {
   "codemirror_mode": {
    "name": "ipython",
    "version": 3
   },
   "file_extension": ".py",
   "mimetype": "text/x-python",
   "name": "python",
   "nbconvert_exporter": "python",
   "pygments_lexer": "ipython3",
   "version": "3.10.10"
  }
 },
 "nbformat": 4,
 "nbformat_minor": 5
}
